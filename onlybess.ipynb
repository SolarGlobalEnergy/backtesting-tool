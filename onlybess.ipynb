{
 "cells": [
  {
   "cell_type": "code",
   "execution_count": null,
   "id": "185068f0",
   "metadata": {},
   "outputs": [],
   "source": [
    "import pandas as pd\n",
    "price_column = 'Vážený průměr cen (EUR/MWh)'\n",
    "df = pd.read_excel(\"data/OTE_2024.xlsx\", sheet_name=\"VDT (EUR)\", skiprows=5, usecols=\"A:L\")\n",
    "\n",
    "#     # 2. Принудительно конвертируем колонку с ценой в числовой формат\n",
    "#     # Любой текст ('N/A', '-') превратится в NaN (маркер отсутствия данных)\n",
    "# df[price_column] = pd.to_numeric(df[price_column], errors='coerce')\n",
    "\n",
    "#     # 3. Создаем временной столбец\n",
    "# start_time = df['Časový interval'].str.split('-').str[0]\n",
    "# df['datetime'] = pd.to_datetime(df['Den'].astype(str) + ' ' + start_time)\n",
    "\n",
    "#     # 4. Устанавливаем 'datetime' как индекс (ключевой шаг)\n",
    "# df.set_index('datetime', inplace=True)\n",
    "    \n",
    "#     # 5. Удаляем ненужные столбцы\n",
    "# df.drop(columns=['Den', 'Časový interval'], inplace=True)\n",
    "\n",
    "#     # 6. Сортируем и ОЧИЩАЕМ данные от NaN\n",
    "# df.sort_index(inplace=True)\n",
    "# df.drop_duplicates(inplace=True)\n",
    "    \n",
    "#     # fillna заполнит пропуски, которые появились после to_numeric\n",
    "# df.fillna(method='ffill', inplace=True)\n",
    "# df.fillna(method='bfill', inplace=True) # Заполняем в обратную сторону на случай, если NaN в самом начале\n",
    "    \n",
    "#     # 7. Фильтруем данные по нужному диапазону дат\n",
    "# # start_date = '2025-01-01 00:00:00'\n",
    "# # end_date = '2025-07-31 23:59:59' # Убедитесь, что ваш диапазон корректен\n",
    "# # vdt2025 = df.loc[start_date:end_date].copy()\n",
    "\n",
    "\n",
    "\n",
    "\n",
    "#############################################################################################################\n",
    "\n",
    "df['datetime'] = pd.to_datetime(df['Den'])\n",
    "df['datetime'] = df['datetime'] + pd.to_timedelta(df['Hodina'] - 1, unit='h')\n",
    "\n",
    "df.sort_values('datetime', inplace=True)\n",
    "df.drop_duplicates(subset=['datetime'], keep='first', inplace=True)\n",
    "\n",
    "vdt2024 = df[['datetime', 'Vážený průměr cen (EUR/MWh)']]\n",
    "vdt2024.set_index('datetime', inplace=True)\n",
    "\n",
    "vdt_15min = vdt2024.resample('15T').ffill()\n",
    "\n",
    "vdt_15min.reset_index(inplace=True)\n",
    "vdt_15min['Den'] = vdt_15min['datetime'].dt.normalize()\n",
    "vdt_15min['Perioda'] = vdt_15min.groupby(vdt_15min['datetime'].dt.date).cumcount() + 1\n",
    "\n",
    "vdt2024_formatted = vdt_15min[['datetime', 'Den', 'Perioda', 'Vážený průměr cen (EUR/MWh)']]\n",
    "vdt2024_formatted.fillna(method='ffill', inplace=True)\n",
    "\n",
    "\n",
    "VDT = vdt2024_formatted[vdt2024_formatted['datetime'].dt.year == 2024]\n",
    "\n",
    "VDT.set_index('datetime', inplace=True)"
   ]
  },
  {
   "cell_type": "code",
   "execution_count": 1,
   "id": "53ecb9e8",
   "metadata": {},
   "outputs": [
    {
     "name": "stderr",
     "output_type": "stream",
     "text": [
      "C:\\Users\\Tamerlan.Ismakatov\\AppData\\Local\\Temp\\ipykernel_20828\\3680577874.py:4: FutureWarning: A value is trying to be set on a copy of a DataFrame or Series through chained assignment using an inplace method.\n",
      "The behavior will change in pandas 3.0. This inplace method will never work because the intermediate object on which we are setting values always behaves as a copy.\n",
      "\n",
      "For example, when doing 'df[col].method(value, inplace=True)', try using 'df.method({col: value}, inplace=True)' or df[col] = df[col].method(value) instead, to perform the operation inplace on the original object.\n",
      "\n",
      "\n",
      "  VDT['Vážený průměr cen (EUR/MWh)'].fillna(method='ffill', inplace=True)\n",
      "C:\\Users\\Tamerlan.Ismakatov\\AppData\\Local\\Temp\\ipykernel_20828\\3680577874.py:4: FutureWarning: Series.fillna with 'method' is deprecated and will raise in a future version. Use obj.ffill() or obj.bfill() instead.\n",
      "  VDT['Vážený průměr cen (EUR/MWh)'].fillna(method='ffill', inplace=True)\n"
     ]
    }
   ],
   "source": [
    "import pandas as pd\n",
    "VDT = (pd.read_excel('data/data.xlsx', sheet_name='VDT (R2W)')).set_index('datetime', inplace=False)\n",
    "VDT = VDT[VDT.index <= '2025-06-30']\n",
    "VDT['Vážený průměr cen (EUR/MWh)'].fillna(method='ffill', inplace=True)"
   ]
  },
  {
   "cell_type": "code",
   "execution_count": 2,
   "id": "41e4884c",
   "metadata": {},
   "outputs": [
    {
     "name": "stdout",
     "output_type": "stream",
     "text": [
      "\n",
      "Successfully analyzed 364 days\n",
      "Annual BESS income: 285,985 EUR\n"
     ]
    }
   ],
   "source": [
    "from BessOptimizer import analyze_projects, BESS_Optimizer, export_full_report_to_excel\n",
    "\n",
    "PROJECTS_CONFIG = {\n",
    "    'pribor': {\n",
    "        'name': 'pribor',\n",
    "        'bess_power_mw': 2.5,\n",
    "        'bess_capacity_mwh': 5.6,\n",
    "        'export_limit_mw': 2.5,      \n",
    "        'import_limit_mw': 2.5,      \n",
    "        'efficiency': 0.85,\n",
    "        'max_cycles': 2          \n",
    "    }\n",
    "}   \n",
    "\n",
    "results = analyze_projects(VDT, projects_config=PROJECTS_CONFIG,analysis_period_days=365, show_daily_reports=False)"
   ]
  },
  {
   "cell_type": "code",
   "execution_count": 3,
   "id": "1778a901",
   "metadata": {},
   "outputs": [
    {
     "name": "stdout",
     "output_type": "stream",
     "text": [
      "\n",
      "Creating Excel report 'full_report_pribor.xlsx' for project 'pribor'...\n",
      "✅ Report 'full_report_pribor.xlsx' was successfully created!\n"
     ]
    }
   ],
   "source": [
    "for i in results.keys():\n",
    "    optimizer_instance = BESS_Optimizer(PROJECTS_CONFIG[i])\n",
    "\n",
    "    project_key_to_export = i\n",
    "    project_data_to_export = results[project_key_to_export]\n",
    "            \n",
    "    excel_filename = f\"full_report_{project_key_to_export}.xlsx\"\n",
    "            \n",
    "    export_full_report_to_excel(project_data_to_export,VDT, optimizer_instance, excel_filename, with_plots=False)"
   ]
  },
  {
   "cell_type": "code",
   "execution_count": null,
   "id": "7515f298",
   "metadata": {},
   "outputs": [],
   "source": []
  }
 ],
 "metadata": {
  "kernelspec": {
   "display_name": "base",
   "language": "python",
   "name": "python3"
  },
  "language_info": {
   "codemirror_mode": {
    "name": "ipython",
    "version": 3
   },
   "file_extension": ".py",
   "mimetype": "text/x-python",
   "name": "python",
   "nbconvert_exporter": "python",
   "pygments_lexer": "ipython3",
   "version": "3.13.5"
  }
 },
 "nbformat": 4,
 "nbformat_minor": 5
}
