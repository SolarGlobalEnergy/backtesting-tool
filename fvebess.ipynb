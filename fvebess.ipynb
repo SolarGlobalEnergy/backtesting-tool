{
 "cells": [
  {
   "cell_type": "code",
   "execution_count": null,
   "id": "42226da9",
   "metadata": {},
   "outputs": [],
   "source": [
    "import pandas as pd\n",
    "\n",
    "fve_df = pd.read_csv('data/FVE_Vresovice_2024_15min_extrapolated.csv', sep=',')\n",
    "fve_df['datetime'] = pd.to_datetime(fve_df['DT'], format='ISO8601')\n",
    "fve_df = fve_df.set_index('datetime')\n",
    "\n",
    "fve_df['Výroba [kW]'] = fve_df['FVE power [MW]'] * 1000\n",
    "\n",
    "fve_df = fve_df[['Výroba [kW]']]\n",
    "FVE = fve_df[fve_df.index.year == 2024]"
   ]
  },
  {
   "cell_type": "code",
   "execution_count": null,
   "id": "1cf75152",
   "metadata": {},
   "outputs": [],
   "source": [
    "vdt2024 = pd.read_excel(\"data/OTE_2024.xlsx\", sheet_name=\"VDT (EUR)\", skiprows=5, usecols=\"A:L\")\n",
    "dt2024 = pd.read_excel(\"data/OTE_2024.xlsx\", sheet_name=\"DT ČR\", skiprows=5, usecols=\"A:L\")"
   ]
  },
  {
   "cell_type": "code",
   "execution_count": null,
   "id": "6f7a3abb",
   "metadata": {},
   "outputs": [],
   "source": [
    "vdt2024['datetime'] = pd.to_datetime(vdt2024['Den'])\n",
    "vdt2024['datetime'] = vdt2024['datetime'] + pd.to_timedelta(vdt2024['Hodina'] - 1, unit='h')\n",
    "\n",
    "vdt2024.sort_values('datetime', inplace=True)\n",
    "vdt2024.drop_duplicates(subset=['datetime'], keep='first', inplace=True)\n",
    "\n",
    "vdt2024 = vdt2024[['datetime', 'Vážený průměr cen (EUR/MWh)']]\n",
    "vdt2024.set_index('datetime', inplace=True)\n",
    "\n",
    "vdt_15min = vdt2024.resample('15T').ffill()\n",
    "\n",
    "vdt_15min.reset_index(inplace=True)\n",
    "vdt_15min['Den'] = vdt_15min['datetime'].dt.normalize()\n",
    "vdt_15min['Perioda'] = vdt_15min.groupby(vdt_15min['datetime'].dt.date).cumcount() + 1\n",
    "\n",
    "vdt2024_formatted = vdt_15min[['datetime', 'Den', 'Perioda', 'Vážený průměr cen (EUR/MWh)']]\n",
    "vdt2024_formatted.fillna(method='ffill', inplace=True)\n",
    "\n",
    "VDT = vdt2024_formatted[vdt2024_formatted['datetime'].dt.year == 2024]\n",
    "VDT.set_index('datetime', inplace=True)"
   ]
  },
  {
   "cell_type": "code",
   "execution_count": null,
   "id": "a0768c4c",
   "metadata": {},
   "outputs": [],
   "source": [
    "dt2024['datetime'] = pd.to_datetime(dt2024['Den'])\n",
    "\n",
    "dt2024['datetime'] = dt2024['datetime'] + pd.to_timedelta(dt2024['Hodina'] - 1, unit='h')\n",
    "\n",
    "dt2024.sort_values('datetime', inplace=True)\n",
    "dt2024.drop_duplicates(subset=['datetime'], keep='first', inplace=True)\n",
    "\n",
    "dt2024_subset = dt2024[['datetime', 'Marginální cena ČR (EUR/MWh)']]\n",
    "dt2024_subset.set_index('datetime', inplace=True)\n",
    "\n",
    "dt_15min = dt2024_subset.resample('15min').ffill()\n",
    "\n",
    "dt_15min.reset_index(inplace=True)\n",
    "\n",
    "dt_15min['Den'] = dt_15min['datetime'].dt.normalize()\n",
    "dt_15min['Perioda'] = dt_15min.groupby(dt_15min['datetime'].dt.date).cumcount() + 1\n",
    "\n",
    "dt2024_formatted = dt_15min[['datetime', 'Den', 'Perioda', 'Marginální cena ČR (EUR/MWh)']]\n",
    "\n",
    "last_known_price = 83.2 \n",
    "\n",
    "new_rows_data = [\n",
    "    {\n",
    "        'datetime': pd.to_datetime('2024-12-31 23:15:00'), \n",
    "        'Den': pd.to_datetime('2024-12-31'), \n",
    "        'Perioda': 94, \n",
    "        'Marginální cena ČR (EUR/MWh)': last_known_price\n",
    "    },\n",
    "    {\n",
    "        'datetime': pd.to_datetime('2024-12-31 23:30:00'), \n",
    "        'Den': pd.to_datetime('2024-12-31'), \n",
    "        'Perioda': 95, \n",
    "        'Marginální cena ČR (EUR/MWh)': last_known_price\n",
    "    },\n",
    "    {\n",
    "        'datetime': pd.to_datetime('2024-12-31 23:45:00'), \n",
    "        'Den': pd.to_datetime('2024-12-31'), \n",
    "        'Perioda': 96, \n",
    "        'Marginální cena ČR (EUR/MWh)': last_known_price\n",
    "    }\n",
    "]\n",
    "\n",
    "new_rows_df = pd.DataFrame(new_rows_data)\n",
    "\n",
    "DT = pd.concat([dt2024_formatted, new_rows_df], ignore_index=True)\n",
    "DT.set_index('datetime', inplace=True)"
   ]
  },
  {
   "cell_type": "code",
   "execution_count": 1,
   "id": "b66f1c00",
   "metadata": {},
   "outputs": [
    {
     "name": "stderr",
     "output_type": "stream",
     "text": [
      "C:\\Users\\Tamerlan.Ismakatov\\AppData\\Local\\Temp\\ipykernel_34576\\1703595386.py:9: FutureWarning: A value is trying to be set on a copy of a DataFrame or Series through chained assignment using an inplace method.\n",
      "The behavior will change in pandas 3.0. This inplace method will never work because the intermediate object on which we are setting values always behaves as a copy.\n",
      "\n",
      "For example, when doing 'df[col].method(value, inplace=True)', try using 'df.method({col: value}, inplace=True)' or df[col] = df[col].method(value) instead, to perform the operation inplace on the original object.\n",
      "\n",
      "\n",
      "  VDT['Vážený průměr cen (EUR/MWh)'].fillna(method='ffill', inplace=True)\n",
      "C:\\Users\\Tamerlan.Ismakatov\\AppData\\Local\\Temp\\ipykernel_34576\\1703595386.py:9: FutureWarning: Series.fillna with 'method' is deprecated and will raise in a future version. Use obj.ffill() or obj.bfill() instead.\n",
      "  VDT['Vážený průměr cen (EUR/MWh)'].fillna(method='ffill', inplace=True)\n"
     ]
    }
   ],
   "source": [
    "import pandas as pd\n",
    "\n",
    "VDT = (pd.read_excel('data/data.xlsx', sheet_name='VDT (R2W)')).set_index('datetime', inplace=False)\n",
    "DT = (pd.read_excel('data/data.xlsx', sheet_name='DT (R2W)')).set_index('datetime', inplace=False)\n",
    "FVE = (pd.read_excel('data/data.xlsx', sheet_name='FVE (R2W)')).set_index('datetime', inplace=False)\n",
    "DT = DT[DT.index <= '2025-06-30']\n",
    "VDT = VDT[VDT.index <= '2025-06-30']\n",
    "FVE = FVE[FVE.index <= '2025-06-30']\n",
    "VDT['Vážený průměr cen (EUR/MWh)'].fillna(method='ffill', inplace=True)"
   ]
  },
  {
   "cell_type": "code",
   "execution_count": 2,
   "id": "70c091e6",
   "metadata": {},
   "outputs": [
    {
     "name": "stdout",
     "output_type": "stream",
     "text": [
      "\n",
      "Successfully analyzed 363 days\n",
      "Annual income: 649,392 EUR\n"
     ]
    }
   ],
   "source": [
    "from FveBessOptimizer import analyze_projects, FVE_BESS_Optimizer, export_full_report_to_excel\n",
    "\n",
    "PROJECTS_CONFIG = {\n",
    "    'phase2': {\n",
    "        'name': 'phase2',\n",
    "        'fve_power_mw': 4.124,           \n",
    "        'fve_scale_factor': 4.124 / 1.6,  \n",
    "        'bess_power_mw': 3.2,\n",
    "        'bess_capacity_mwh': 6.4,\n",
    "        'export_limit_mw': 6.5,      \n",
    "        'import_limit_mw': 3.21,      \n",
    "        'efficiency': 0.85,\n",
    "        'max_cycles': 2          \n",
    "    },\n",
    "}\n",
    "results = analyze_projects(DT, VDT, FVE, projects_config=PROJECTS_CONFIG,\n",
    "                             analysis_period_days=365, show_daily_reports=False)"
   ]
  },
  {
   "cell_type": "code",
   "execution_count": 4,
   "id": "0db4699e",
   "metadata": {},
   "outputs": [
    {
     "name": "stdout",
     "output_type": "stream",
     "text": [
      "\n",
      "Creating Excel report 'full_report_phase2.xlsx' for project 'phase2'...\n",
      "✅ Report 'full_report_phase2.xlsx' was successfully created!\n"
     ]
    }
   ],
   "source": [
    "for i in results.keys():\n",
    "    optimizer_instance = FVE_BESS_Optimizer(PROJECTS_CONFIG[i])\n",
    "\n",
    "    project_key_to_export = i\n",
    "    project_data_to_export = results[project_key_to_export]\n",
    "            \n",
    "    excel_filename = f\"full_report_{project_key_to_export}.xlsx\"\n",
    "    export_full_report_to_excel(project_data_to_export, DT, VDT, optimizer_instance, excel_filename, with_plots=True)"
   ]
  },
  {
   "cell_type": "code",
   "execution_count": null,
   "id": "e1c140b4",
   "metadata": {},
   "outputs": [],
   "source": []
  }
 ],
 "metadata": {
  "kernelspec": {
   "display_name": "base",
   "language": "python",
   "name": "python3"
  },
  "language_info": {
   "codemirror_mode": {
    "name": "ipython",
    "version": 3
   },
   "file_extension": ".py",
   "mimetype": "text/x-python",
   "name": "python",
   "nbconvert_exporter": "python",
   "pygments_lexer": "ipython3",
   "version": "3.13.5"
  }
 },
 "nbformat": 4,
 "nbformat_minor": 5
}
