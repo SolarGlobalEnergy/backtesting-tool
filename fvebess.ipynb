{
 "cells": [
  {
   "cell_type": "code",
   "execution_count": null,
   "id": "42226da9",
   "metadata": {},
   "outputs": [],
   "source": [
    "import pandas as pd\n",
    "\n",
    "fve_df = pd.read_csv('data/FVE_Vresovice_2024_15min_extrapolated.csv', sep=',')\n",
    "fve_df['datetime'] = pd.to_datetime(fve_df['DT'], format='ISO8601')\n",
    "fve_df = fve_df.set_index('datetime')\n",
    "\n",
    "fve_df['Výroba [kW]'] = fve_df['FVE power [MW]'] * 1000\n",
    "\n",
    "fve_df = fve_df[['Výroba [kW]']]\n",
    "FVE = fve_df[fve_df.index.year == 2024]"
   ]
  },
  {
   "cell_type": "code",
   "execution_count": null,
   "id": "1cf75152",
   "metadata": {},
   "outputs": [],
   "source": [
    "vdt2024 = pd.read_excel(\"data/OTE_2024.xlsx\", sheet_name=\"VDT (EUR)\", skiprows=5, usecols=\"A:L\")\n",
    "dt2024 = pd.read_excel(\"data/OTE_2024.xlsx\", sheet_name=\"DT ČR\", skiprows=5, usecols=\"A:L\")"
   ]
  },
  {
   "cell_type": "code",
   "execution_count": null,
   "id": "6f7a3abb",
   "metadata": {},
   "outputs": [],
   "source": [
    "vdt2024['datetime'] = pd.to_datetime(vdt2024['Den'])\n",
    "vdt2024['datetime'] = vdt2024['datetime'] + pd.to_timedelta(vdt2024['Hodina'] - 1, unit='h')\n",
    "\n",
    "vdt2024.sort_values('datetime', inplace=True)\n",
    "vdt2024.drop_duplicates(subset=['datetime'], keep='first', inplace=True)\n",
    "\n",
    "vdt2024 = vdt2024[['datetime', 'Vážený průměr cen (EUR/MWh)']]\n",
    "vdt2024.set_index('datetime', inplace=True)\n",
    "\n",
    "vdt_15min = vdt2024.resample('15T').ffill()\n",
    "\n",
    "vdt_15min.reset_index(inplace=True)\n",
    "vdt_15min['Den'] = vdt_15min['datetime'].dt.normalize()\n",
    "vdt_15min['Perioda'] = vdt_15min.groupby(vdt_15min['datetime'].dt.date).cumcount() + 1\n",
    "\n",
    "vdt2024_formatted = vdt_15min[['datetime', 'Den', 'Perioda', 'Vážený průměr cen (EUR/MWh)']]\n",
    "vdt2024_formatted.fillna(method='ffill', inplace=True)\n",
    "\n",
    "VDT = vdt2024_formatted[vdt2024_formatted['datetime'].dt.year == 2024]\n",
    "VDT.set_index('datetime', inplace=True)"
   ]
  },
  {
   "cell_type": "code",
   "execution_count": null,
   "id": "a0768c4c",
   "metadata": {},
   "outputs": [],
   "source": [
    "dt2024['datetime'] = pd.to_datetime(dt2024['Den'])\n",
    "\n",
    "dt2024['datetime'] = dt2024['datetime'] + pd.to_timedelta(dt2024['Hodina'] - 1, unit='h')\n",
    "\n",
    "dt2024.sort_values('datetime', inplace=True)\n",
    "dt2024.drop_duplicates(subset=['datetime'], keep='first', inplace=True)\n",
    "\n",
    "dt2024_subset = dt2024[['datetime', 'Marginální cena ČR (EUR/MWh)']]\n",
    "dt2024_subset.set_index('datetime', inplace=True)\n",
    "\n",
    "dt_15min = dt2024_subset.resample('15min').ffill()\n",
    "\n",
    "dt_15min.reset_index(inplace=True)\n",
    "\n",
    "dt_15min['Den'] = dt_15min['datetime'].dt.normalize()\n",
    "dt_15min['Perioda'] = dt_15min.groupby(dt_15min['datetime'].dt.date).cumcount() + 1\n",
    "\n",
    "dt2024_formatted = dt_15min[['datetime', 'Den', 'Perioda', 'Marginální cena ČR (EUR/MWh)']]\n",
    "\n",
    "last_known_price = 83.2 \n",
    "\n",
    "new_rows_data = [\n",
    "    {\n",
    "        'datetime': pd.to_datetime('2024-12-31 23:15:00'), \n",
    "        'Den': pd.to_datetime('2024-12-31'), \n",
    "        'Perioda': 94, \n",
    "        'Marginální cena ČR (EUR/MWh)': last_known_price\n",
    "    },\n",
    "    {\n",
    "        'datetime': pd.to_datetime('2024-12-31 23:30:00'), \n",
    "        'Den': pd.to_datetime('2024-12-31'), \n",
    "        'Perioda': 95, \n",
    "        'Marginální cena ČR (EUR/MWh)': last_known_price\n",
    "    },\n",
    "    {\n",
    "        'datetime': pd.to_datetime('2024-12-31 23:45:00'), \n",
    "        'Den': pd.to_datetime('2024-12-31'), \n",
    "        'Perioda': 96, \n",
    "        'Marginální cena ČR (EUR/MWh)': last_known_price\n",
    "    }\n",
    "]\n",
    "\n",
    "new_rows_df = pd.DataFrame(new_rows_data)\n",
    "\n",
    "DT = pd.concat([dt2024_formatted, new_rows_df], ignore_index=True)\n",
    "DT.set_index('datetime', inplace=True)"
   ]
  },
  {
   "cell_type": "code",
   "execution_count": null,
   "id": "b66f1c00",
   "metadata": {},
   "outputs": [],
   "source": [
    "import pandas as pd\n",
    "\n",
    "VDT = (pd.read_excel('data/data.xlsx', sheet_name='VDT (R2W)')).set_index('datetime', inplace=False)\n",
    "DT = (pd.read_excel('data/data.xlsx', sheet_name='DT (R2W)')).set_index('datetime', inplace=False)\n",
    "FVE = (pd.read_excel('data/data.xlsx', sheet_name='FVE (R2W)')).set_index('datetime', inplace=False)\n",
    "DT = DT[DT.index <= '2025-06-30']\n",
    "VDT = VDT[VDT.index <= '2025-06-30']\n",
    "FVE = FVE[FVE.index <= '2025-06-30']\n",
    "VDT['Vážený průměr cen (EUR/MWh)'].fillna(method='ffill', inplace=True)"
   ]
  },
  {
   "cell_type": "code",
   "execution_count": null,
   "id": "70c091e6",
   "metadata": {},
   "outputs": [
    {
     "ename": "KeyboardInterrupt",
     "evalue": "",
     "output_type": "error",
     "traceback": [
      "\u001b[31m---------------------------------------------------------------------------\u001b[39m",
      "\u001b[31mKeyboardInterrupt\u001b[39m                         Traceback (most recent call last)",
      "\u001b[36mCell\u001b[39m\u001b[36m \u001b[39m\u001b[32mIn[2]\u001b[39m\u001b[32m, line 16\u001b[39m\n\u001b[32m      1\u001b[39m \u001b[38;5;28;01mfrom\u001b[39;00m\u001b[38;5;250m \u001b[39m\u001b[34;01mFveBessOptimizer\u001b[39;00m\u001b[38;5;250m \u001b[39m\u001b[38;5;28;01mimport\u001b[39;00m analyze_projects, FVE_BESS_Optimizer, export_full_report_to_excel\n\u001b[32m      3\u001b[39m PROJECTS_CONFIG = {\n\u001b[32m      4\u001b[39m     \u001b[33m'\u001b[39m\u001b[33mfve_bess_phase2\u001b[39m\u001b[33m'\u001b[39m: {\n\u001b[32m      5\u001b[39m         \u001b[33m'\u001b[39m\u001b[33mname\u001b[39m\u001b[33m'\u001b[39m: \u001b[33m'\u001b[39m\u001b[33mfve_bess_phase2\u001b[39m\u001b[33m'\u001b[39m,\n\u001b[32m   (...)\u001b[39m\u001b[32m     14\u001b[39m     }\n\u001b[32m     15\u001b[39m }\n\u001b[32m---> \u001b[39m\u001b[32m16\u001b[39m results = analyze_projects(DT, VDT, FVE, projects_config=PROJECTS_CONFIG,\n\u001b[32m     17\u001b[39m                              analysis_period_days=\u001b[32m365\u001b[39m, show_daily_reports=\u001b[38;5;28;01mFalse\u001b[39;00m)\n",
      "\u001b[36mFile \u001b[39m\u001b[32mc:\\Users\\Tamerlan.Ismakatov\\Desktop\\workdir\\report\\project1i2\\FveBessOptimizer.py:1242\u001b[39m, in \u001b[36manalyze_projects\u001b[39m\u001b[34m(dt_prices_data, vdt_prices_data, fve_generation_data, projects_config, analysis_period_days, show_daily_reports)\u001b[39m\n\u001b[32m   1237\u001b[39m vdt_day = vdt_prices_data.iloc[start_idx:\n\u001b[32m   1238\u001b[39m                                end_idx][\u001b[33m'\u001b[39m\u001b[33mVážený průměr cen (EUR/MWh)\u001b[39m\u001b[33m'\u001b[39m].values\n\u001b[32m   1240\u001b[39m fve_day = fve_generation_data.iloc[start_idx:\n\u001b[32m   1241\u001b[39m                                    end_idx][\u001b[33m'\u001b[39m\u001b[33mVýroba [kW]\u001b[39m\u001b[33m'\u001b[39m].values / \u001b[32m1000\u001b[39m\n\u001b[32m-> \u001b[39m\u001b[32m1242\u001b[39m day_result = optimizer.optimize_day_strategy_dp(dt_day, vdt_day, fve_day, start_soc=current_soc)\n\u001b[32m   1245\u001b[39m daily_results.append(day_result)\n\u001b[32m   1247\u001b[39m \u001b[38;5;28;01mif\u001b[39;00m day_result[\u001b[33m'\u001b[39m\u001b[33moperational_summary\u001b[39m\u001b[33m'\u001b[39m][\u001b[33m'\u001b[39m\u001b[33mvdt_strategy\u001b[39m\u001b[33m'\u001b[39m]:\n",
      "\u001b[36mFile \u001b[39m\u001b[32mc:\\Users\\Tamerlan.Ismakatov\\Desktop\\workdir\\report\\project1i2\\FveBessOptimizer.py:244\u001b[39m, in \u001b[36mFVE_BESS_Optimizer.optimize_day_strategy_dp\u001b[39m\u001b[34m(self, dt_prices_eur, vdt_prices_eur, fve_generation, start_soc, end_soc)\u001b[39m\n\u001b[32m    239\u001b[39m fve_generation_scaled = fve_generation * \\\n\u001b[32m    240\u001b[39m     \u001b[38;5;28mself\u001b[39m.config[\u001b[33m'\u001b[39m\u001b[33mfve_scale_factor\u001b[39m\u001b[33m'\u001b[39m]\n\u001b[32m    242\u001b[39m \u001b[38;5;28;01mtry\u001b[39;00m:\n\u001b[32m    243\u001b[39m     \u001b[38;5;66;03m# STEP 1: DP optimization\u001b[39;00m\n\u001b[32m--> \u001b[39m\u001b[32m244\u001b[39m     vdt_optimization = \u001b[38;5;28mself\u001b[39m._optimize_vdt_trading(\n\u001b[32m    245\u001b[39m         dt_prices_eur.tolist(), vdt_prices_eur.tolist(), fve_generation_scaled.tolist(),\n\u001b[32m    246\u001b[39m         bess_power, bess_capacity, efficiency, export_limit, import_limit,\n\u001b[32m    247\u001b[39m         start_soc, end_soc, max_cycles\n\u001b[32m    248\u001b[39m     )   \n\u001b[32m    249\u001b[39m     current_trading_report = vdt_optimization.get(\u001b[33m'\u001b[39m\u001b[33mtrading_report\u001b[39m\u001b[33m'\u001b[39m, {\u001b[33m'\u001b[39m\u001b[33mactive_trades\u001b[39m\u001b[33m'\u001b[39m: []})\n\u001b[32m    250\u001b[39m     \u001b[38;5;66;03m# STEP 2: PHYSICAL VALIDATION - new check\u001b[39;00m\n",
      "\u001b[36mFile \u001b[39m\u001b[32mc:\\Users\\Tamerlan.Ismakatov\\Desktop\\workdir\\report\\project1i2\\FveBessOptimizer.py:340\u001b[39m, in \u001b[36mFVE_BESS_Optimizer._optimize_vdt_trading\u001b[39m\u001b[34m(self, dt_prices, vdt_prices, fve_generation_scaled, bess_power, bess_capacity, efficiency, export_limit, import_limit, start_soc, end_soc, max_cycles)\u001b[39m\n\u001b[32m    334\u001b[39m     result = \u001b[38;5;28mself\u001b[39m._solve_with_discretized_dp_fve_bess(\n\u001b[32m    335\u001b[39m         dt_prices, vdt_prices, fve_generation_scaled, bess_power,\n\u001b[32m    336\u001b[39m         bess_capacity, efficiency, export_limit, import_limit,\n\u001b[32m    337\u001b[39m         start_soc, end_soc, soc_states, soc_step\n\u001b[32m    338\u001b[39m     )\n\u001b[32m    339\u001b[39m \u001b[38;5;28;01melse\u001b[39;00m:\n\u001b[32m--> \u001b[39m\u001b[32m340\u001b[39m     result = \u001b[38;5;28mself\u001b[39m._solve_with_discretized_dp(\n\u001b[32m    341\u001b[39m         dt_prices, vdt_prices, fve_generation_scaled, bess_power,\n\u001b[32m    342\u001b[39m         bess_capacity, efficiency, export_limit, import_limit,\n\u001b[32m    343\u001b[39m         start_soc, end_soc, soc_states, soc_step\n\u001b[32m    344\u001b[39m     )\n\u001b[32m    346\u001b[39m \u001b[38;5;66;03m# 2. Get the initial strategy from the DP result.\u001b[39;00m\n\u001b[32m    347\u001b[39m original_strategy = result[\u001b[33m'\u001b[39m\u001b[33mdp_strategy\u001b[39m\u001b[33m'\u001b[39m]\n",
      "\u001b[36mFile \u001b[39m\u001b[32mc:\\Users\\Tamerlan.Ismakatov\\Desktop\\workdir\\report\\project1i2\\FveBessOptimizer.py:414\u001b[39m, in \u001b[36mFVE_BESS_Optimizer._solve_with_discretized_dp\u001b[39m\u001b[34m(self, dt_prices, vdt_prices, fve_generation_scaled, bess_power, bess_capacity, efficiency, export_limit, import_limit, start_soc, end_soc, soc_states, soc_step)\u001b[39m\n\u001b[32m    411\u001b[39m     \u001b[38;5;28;01mcontinue\u001b[39;00m\n\u001b[32m    413\u001b[39m new_soc = \u001b[38;5;28mmax\u001b[39m(\u001b[32m0.0\u001b[39m, \u001b[38;5;28mmin\u001b[39m(new_soc, bess_capacity))\n\u001b[32m--> \u001b[39m\u001b[32m414\u001b[39m new_state_idx = \u001b[38;5;28mself\u001b[39m._find_closest_state_idx(\n\u001b[32m    415\u001b[39m     new_soc, soc_states)\n\u001b[32m    417\u001b[39m profit = \u001b[38;5;28mself\u001b[39m._calculate_action_profit_dp(\n\u001b[32m    418\u001b[39m     action, vdt_prices[t], dt_prices[t])\n\u001b[32m    420\u001b[39m penalty = \u001b[38;5;28mself\u001b[39m._get_interpolation_penalty(\n\u001b[32m    421\u001b[39m     new_soc, soc_states[new_state_idx], soc_step)\n",
      "\u001b[36mFile \u001b[39m\u001b[32mc:\\Users\\Tamerlan.Ismakatov\\Desktop\\workdir\\report\\project1i2\\FveBessOptimizer.py:686\u001b[39m, in \u001b[36mFVE_BESS_Optimizer._find_closest_state_idx\u001b[39m\u001b[34m(self, soc, soc_states)\u001b[39m\n\u001b[32m    684\u001b[39m \u001b[38;5;28;01mdef\u001b[39;00m\u001b[38;5;250m \u001b[39m\u001b[34m_find_closest_state_idx\u001b[39m(\u001b[38;5;28mself\u001b[39m, soc: \u001b[38;5;28mfloat\u001b[39m, soc_states: np.ndarray) -> \u001b[38;5;28mint\u001b[39m:\n\u001b[32m    685\u001b[39m     soc = \u001b[38;5;28mmax\u001b[39m(\u001b[32m0\u001b[39m, \u001b[38;5;28mmin\u001b[39m(soc, soc_states[-\u001b[32m1\u001b[39m]))\n\u001b[32m--> \u001b[39m\u001b[32m686\u001b[39m     \u001b[38;5;28;01mreturn\u001b[39;00m np.argmin(np.abs(soc_states - soc))\n",
      "\u001b[36mFile \u001b[39m\u001b[32mc:\\Users\\Tamerlan.Ismakatov\\AppData\\Local\\miniconda3\\Lib\\site-packages\\numpy\\_core\\fromnumeric.py:1439\u001b[39m, in \u001b[36margmin\u001b[39m\u001b[34m(a, axis, out, keepdims)\u001b[39m\n\u001b[32m   1350\u001b[39m \u001b[38;5;250m\u001b[39m\u001b[33;03m\"\"\"\u001b[39;00m\n\u001b[32m   1351\u001b[39m \u001b[33;03mReturns the indices of the minimum values along an axis.\u001b[39;00m\n\u001b[32m   1352\u001b[39m \n\u001b[32m   (...)\u001b[39m\u001b[32m   1436\u001b[39m \u001b[33;03m(2, 1, 4)\u001b[39;00m\n\u001b[32m   1437\u001b[39m \u001b[33;03m\"\"\"\u001b[39;00m\n\u001b[32m   1438\u001b[39m kwds = {\u001b[33m'\u001b[39m\u001b[33mkeepdims\u001b[39m\u001b[33m'\u001b[39m: keepdims} \u001b[38;5;28;01mif\u001b[39;00m keepdims \u001b[38;5;129;01mis\u001b[39;00m \u001b[38;5;129;01mnot\u001b[39;00m np._NoValue \u001b[38;5;28;01melse\u001b[39;00m {}\n\u001b[32m-> \u001b[39m\u001b[32m1439\u001b[39m \u001b[38;5;28;01mreturn\u001b[39;00m _wrapfunc(a, \u001b[33m'\u001b[39m\u001b[33margmin\u001b[39m\u001b[33m'\u001b[39m, axis=axis, out=out, **kwds)\n",
      "\u001b[36mFile \u001b[39m\u001b[32mc:\\Users\\Tamerlan.Ismakatov\\AppData\\Local\\miniconda3\\Lib\\site-packages\\numpy\\_core\\fromnumeric.py:57\u001b[39m, in \u001b[36m_wrapfunc\u001b[39m\u001b[34m(obj, method, *args, **kwds)\u001b[39m\n\u001b[32m     54\u001b[39m     \u001b[38;5;28;01mreturn\u001b[39;00m _wrapit(obj, method, *args, **kwds)\n\u001b[32m     56\u001b[39m \u001b[38;5;28;01mtry\u001b[39;00m:\n\u001b[32m---> \u001b[39m\u001b[32m57\u001b[39m     \u001b[38;5;28;01mreturn\u001b[39;00m bound(*args, **kwds)\n\u001b[32m     58\u001b[39m \u001b[38;5;28;01mexcept\u001b[39;00m \u001b[38;5;167;01mTypeError\u001b[39;00m:\n\u001b[32m     59\u001b[39m     \u001b[38;5;66;03m# A TypeError occurs if the object does have such a method in its\u001b[39;00m\n\u001b[32m     60\u001b[39m     \u001b[38;5;66;03m# class, but its signature is not identical to that of NumPy's. This\u001b[39;00m\n\u001b[32m   (...)\u001b[39m\u001b[32m     64\u001b[39m     \u001b[38;5;66;03m# Call _wrapit from within the except clause to ensure a potential\u001b[39;00m\n\u001b[32m     65\u001b[39m     \u001b[38;5;66;03m# exception has a traceback chain.\u001b[39;00m\n\u001b[32m     66\u001b[39m     \u001b[38;5;28;01mreturn\u001b[39;00m _wrapit(obj, method, *args, **kwds)\n",
      "\u001b[31mKeyboardInterrupt\u001b[39m: "
     ]
    }
   ],
   "source": [
    "from FveBessOptimizer import analyze_projects, FVE_BESS_Optimizer, export_full_report_to_excel\n",
    "\n",
    "PROJECTS_CONFIG = {\n",
    "    'fve_bess_phase2': {\n",
    "        'name': 'fve_bess_phase2',\n",
    "        'fve_power_mw': 4.124,           \n",
    "        'fve_scale_factor': 4.124 / 1.6,  \n",
    "        'bess_power_mw': 3.2,\n",
    "        'bess_capacity_mwh': 6.4,\n",
    "        'export_limit_mw': 6.5,      \n",
    "        'import_limit_mw': 3.21,      \n",
    "        'efficiency': 0.85,\n",
    "        'max_cycles': 2          \n",
    "    },\n",
    "}\n",
    "results = analyze_projects(DT, VDT, FVE, projects_config=PROJECTS_CONFIG,\n",
    "                             analysis_period_days=365, show_daily_reports=False)"
   ]
  },
  {
   "cell_type": "code",
   "execution_count": null,
   "id": "0db4699e",
   "metadata": {},
   "outputs": [],
   "source": [
    "for i in results.keys():\n",
    "    optimizer_instance = FVE_BESS_Optimizer(PROJECTS_CONFIG[i])\n",
    "\n",
    "    project_key_to_export = i\n",
    "    project_data_to_export = results[project_key_to_export]\n",
    "            \n",
    "    excel_filename = f\"full_report_{project_key_to_export}.xlsx\"\n",
    "    export_full_report_to_excel(project_data_to_export, DT, VDT, optimizer_instance, excel_filename, with_plots=True)"
   ]
  },
  {
   "cell_type": "code",
   "execution_count": null,
   "id": "e1c140b4",
   "metadata": {},
   "outputs": [],
   "source": []
  }
 ],
 "metadata": {
  "kernelspec": {
   "display_name": "base",
   "language": "python",
   "name": "python3"
  },
  "language_info": {
   "codemirror_mode": {
    "name": "ipython",
    "version": 3
   },
   "file_extension": ".py",
   "mimetype": "text/x-python",
   "name": "python",
   "nbconvert_exporter": "python",
   "pygments_lexer": "ipython3",
   "version": "3.13.5"
  }
 },
 "nbformat": 4,
 "nbformat_minor": 5
}
